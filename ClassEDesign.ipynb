{
 "cells": [
  {
   "cell_type": "markdown",
   "metadata": {},
   "source": [
    "# Class E desing equations\n",
    "\n",
    "Notes on designing class-E RF power amplifiers\n",
    "Bill Slade\n",
    "4 May 2010"
   ]
  },
  {
   "cell_type": "code",
   "execution_count": 1,
   "metadata": {},
   "outputs": [],
   "source": [
    "import numpy as np"
   ]
  },
  {
   "cell_type": "code",
   "execution_count": 2,
   "metadata": {},
   "outputs": [],
   "source": [
    "\n",
    "def cshunt(omega, I, Vcc):\n",
    "    return I/(np.pi*omega*Vcc)\n",
    "\n",
    "def r_load(v, p):\n",
    "    return 8 * v ** 2 / (np.pi ** 2 + 4) / p\n",
    "\n",
    "def l_ext(omega, R):\n",
    "    return 1.153*R/omega\n",
    "\n",
    "def cl(omega, Q, R):\n",
    "    return 1 / (omega * Q * R)\n",
    "\n",
    "def lr(omega, Q, R):\n",
    "    return Q*R/omega\n",
    "\n",
    "def cm(omega, Rl, R):\n",
    "    return 1/(omega * Rl)*(np.sqrt(Rl/R-1.0))\n",
    "\n",
    "def l0(cm, Rl, R):\n",
    "    return cm *R*Rl"
   ]
  },
  {
   "cell_type": "code",
   "execution_count": 3,
   "metadata": {},
   "outputs": [
    {
     "name": "stdout",
     "output_type": "stream",
     "text": [
      "I0 = 4.166666666666667 A\n",
      "cs=2345.3977694985597 pF\n",
      "Rl=1.6611865294579256 Ohm\n",
      "Lextl=40.644948378362244 nH\n",
      "Cl=1277.439872200508 pF\n",
      "Lres=0.35251473008119905 uH\n",
      "Cm=2289.4315136425407 pF\n",
      "L0=190.15863952897286 nH\n",
      "\n",
      "cs=2345.3977694985597 pF\n",
      "Cl=1277.439872200508 pF\n",
      "Cm=2289.4315136425407 pF\n",
      "Ltotal=0.5833183179885341 uH\n"
     ]
    }
   ],
   "source": [
    "# Example from paper\n",
    "Vcc=12\n",
    "Pload=50\n",
    "f=15e6\n",
    "omega=f*np.pi\n",
    "Q=10\n",
    "Rl=50\n",
    "\n",
    "I0=Pload/Vcc\n",
    "print(f'I0 = {I0} A')\n",
    "\n",
    "Cs = cshunt(omega, I0, Vcc)\n",
    "print(f'cs={Cs*1e12} pF')\n",
    "\n",
    "R=r_load(Vcc, Pload)\n",
    "print(f'Rl={R} Ohm')\n",
    "\n",
    "Lext=l_ext(omega, R)\n",
    "print(f'Lextl={Lext*1e9} nH')\n",
    "\n",
    "Cl=cl(omega, Q, R)\n",
    "print(f'Cl={Cl*1e12} pF')\n",
    "\n",
    "Lres=lr(omega, Q,R)\n",
    "print(f'Lres={Lres*1e6} uH')\n",
    "\n",
    "Cm=cm(omega, Rl, R)\n",
    "print(f'Cm={Cm*1e12} pF')\n",
    "\n",
    "L0=l0(Cm, Rl,R)\n",
    "print(f'L0={L0*1e9} nH')\n",
    "\n",
    "print()\n",
    "print(f'cs={Cs*1e12} pF')\n",
    "print(f'Cl={Cl*1e12} pF')\n",
    "print(f'Cm={Cm*1e12} pF')\n",
    "print(f'Ltotal={(Lext+Lres+L0)*1e6} uH')\n"
   ]
  },
  {
   "cell_type": "code",
   "execution_count": null,
   "metadata": {},
   "outputs": [],
   "source": []
  }
 ],
 "metadata": {
  "kernelspec": {
   "display_name": "Python 3",
   "language": "python",
   "name": "python3"
  },
  "language_info": {
   "codemirror_mode": {
    "name": "ipython",
    "version": 3
   },
   "file_extension": ".py",
   "mimetype": "text/x-python",
   "name": "python",
   "nbconvert_exporter": "python",
   "pygments_lexer": "ipython3",
   "version": "3.7.6"
  }
 },
 "nbformat": 4,
 "nbformat_minor": 4
}
